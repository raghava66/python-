{
 "cells": [
  {
   "cell_type": "markdown",
   "metadata": {},
   "source": [
    "### standard  libraries\n",
    "    -> file I/O\n",
    "    -> regular expression \n",
    "    -> datatime\n",
    "    -> Math (numerical and mathematical)"
   ]
  },
  {
   "cell_type": "markdown",
   "metadata": {},
   "source": [
    "### file handling in python\n",
    "-> file : document containing information resides on the permanent storage\n",
    "-> different types of files :-txt,doc,pdf,csv and etc....\n",
    "-> input --- keyboard\n",
    "-> output -- file\n",
    "### Modes of the file I/O\n",
    "  - 'w' --- if the file is not present fileand write so me the file me data to it\n",
    "        --- if the file is already present then it will rewrite the previous content"
   ]
  },
  {
   "cell_type": "code",
   "execution_count": 1,
   "metadata": {},
   "outputs": [
    {
     "name": "stdout",
     "output_type": "stream",
     "text": [
      "file is created and data has written\n"
     ]
    }
   ],
   "source": [
    "# function to create a file and write to the file\n",
    "def createfile(filename):\n",
    "    f = open(filename,'w')\n",
    "    for i in range(10):\n",
    "        f.write('this is %d line' % i)\n",
    "        print(\"file is created and data has written\")\n",
    "        return\n",
    "createfile('file.txt')"
   ]
  },
  {
   "cell_type": "code",
   "execution_count": 5,
   "metadata": {},
   "outputs": [
    {
     "name": "stdout",
     "output_type": "stream",
     "text": [
      " Volume in drive C has no label.\n",
      " Volume Serial Number is BAAB-0D24\n",
      "\n",
      " Directory of C:\\Users\\222\n",
      "\n",
      "08-07-2019  16:00             9,719  8th-july- 2019.ipynb\n",
      "11-07-2019  09:52    <DIR>          .\n",
      "11-07-2019  09:52    <DIR>          ..\n",
      "08-05-2019  09:40    <DIR>          .anaconda\n",
      "14-03-2017  11:25               145 .appletviewer\n",
      "02-11-2017  15:53                 0 .cdtclient\n",
      "08-07-2019  09:03    <DIR>          .conda\n",
      "08-07-2019  09:05                43 .condarc\n",
      "14-09-2018  14:16    <DIR>          .config\n",
      "20-11-2018  15:13    <DIR>          .eclipse\n",
      "11-07-2019  09:00    <DIR>          .ipynb_checkpoints\n",
      "08-05-2019  09:48    <DIR>          .ipython\n",
      "17-03-2017  10:03    <DIR>          .jmc\n",
      "08-05-2019  10:35    <DIR>          .jupyter\n",
      "17-05-2019  16:38    <DIR>          .matplotlib\n",
      "16-11-2018  13:58    <DIR>          .oracle_jre_usage\n",
      "06-07-2019  11:46    <DIR>          .spyder-py3\n",
      "10-07-2019  16:51            15,593 10th- july-2019.ipynb\n",
      "11-07-2019  09:52             5,859 11th-july-2019.ipynb\n",
      "17-01-2017  11:21    <DIR>          2210315423\n",
      "06-07-2019  12:44             2,074 6-7-2019.ipynb\n",
      "09-07-2019  15:46             9,222 9th-july-2019.ipynb\n",
      "22-04-2019  16:17    <DIR>          Anaconda3\n",
      "22-11-2016  16:53    <DIR>          Contacts\n",
      "12-05-2019  10:38            12,037 Day 11 09 may.ipynb\n",
      "12-05-2019  10:46             5,453 Day 12 10th may.ipynb\n",
      "12-05-2019  14:18             6,587 Day 13 11th may.ipynb\n",
      "13-05-2019  16:31             3,640 Day 14 12th may.ipynb\n",
      "15-05-2019  10:13             5,560 Day 15 13th May.ipynb\n",
      "15-05-2019  11:15               761 Day 18 16th May.ipynb\n",
      "12-05-2019  11:12                72 Day.ipynb\n",
      "10-07-2019  14:08            19,819 Day-9(10-07-2019) (1).ipynb\n",
      "06-07-2019  16:18    <DIR>          Desktop\n",
      "08-07-2019  16:56    <DIR>          Documents\n",
      "11-07-2019  09:41    <DIR>          Downloads\n",
      "22-11-2016  16:53    <DIR>          Favorites\n",
      "11-07-2019  09:47                14 file.txt\n",
      "17-03-2017  10:52    <DIR>          hemanth\n",
      "22-11-2016  16:53    <DIR>          Links\n",
      "22-11-2016  16:53    <DIR>          Music\n",
      "13-03-2019  12:35    <DIR>          Pictures\n",
      "08-05-2019  16:10             1,790 problem.ipynb\n",
      "15-05-2019  12:48    <DIR>          program with python\n",
      "15-05-2019  12:48             1,143 saikrishna.ipynb\n",
      "22-11-2016  16:53    <DIR>          Saved Games\n",
      "22-11-2016  16:53    <DIR>          Searches\n",
      "15-05-2019  12:15                 0 test.py\n",
      "08-05-2019  09:48                72 test.py.ipynb\n",
      "15-05-2019  12:15                 0 untitled\n",
      "15-05-2019  12:11    <DIR>          Untitled Folder\n",
      "15-05-2019  12:12    <DIR>          Untitled Folder 1\n",
      "15-05-2019  12:25    <DIR>          Untitled Folder 2\n",
      "08-07-2019  11:12               555 Untitled.ipynb\n",
      "08-07-2019  09:22                72 Untitled8.ipynb\n",
      "08-07-2019  09:22                72 Untitled9.ipynb\n",
      "22-11-2016  16:53    <DIR>          Videos\n",
      "17-03-2017  10:18    <DIR>          workspace\n",
      "              25 File(s)        100,302 bytes\n",
      "              32 Dir(s)  43,451,731,968 bytes free\n"
     ]
    }
   ],
   "source": [
    "ls"
   ]
  },
  {
   "cell_type": "code",
   "execution_count": 6,
   "metadata": {},
   "outputs": [
    {
     "name": "stdout",
     "output_type": "stream",
     "text": [
      "file is created and data has written\n"
     ]
    }
   ],
   "source": [
    "def createfile(filename):\n",
    "    f = open(filename,'w')\n",
    "    for i in range(10):\n",
    "        f.write('this is %d line' % i)\n",
    "        print(\"file is created and data has written\")\n",
    "        return\n",
    "createfile('file.txt')"
   ]
  },
  {
   "cell_type": "code",
   "execution_count": 7,
   "metadata": {},
   "outputs": [
    {
     "name": "stdout",
     "output_type": "stream",
     "text": [
      "file created and successfully data written\n"
     ]
    }
   ],
   "source": [
    "def createfile(filename):\n",
    "    f = open(filename,'w')\n",
    "    for i in range(10):\n",
    "        f.write('this is %d line' % i)\n",
    "        print(\"file created and successfully data written\")\n",
    "        return\n",
    "createfile('file2.txt')"
   ]
  },
  {
   "cell_type": "code",
   "execution_count": 9,
   "metadata": {},
   "outputs": [
    {
     "name": "stdout",
     "output_type": "stream",
     "text": [
      "file created and successfully data written\n"
     ]
    }
   ],
   "source": [
    "def appenddata(filename):\n",
    "    f = open(filename,'w')\n",
    "    for i in range(10):\n",
    "        f.write('this is %d line' % i)\n",
    "        print(\"file created and successfully data written\")\n",
    "        return\n",
    "appenddata('file2.txt')"
   ]
  },
  {
   "cell_type": "code",
   "execution_count": 17,
   "metadata": {},
   "outputs": [
    {
     "name": "stdout",
     "output_type": "stream",
     "text": [
      "file created and successfully data written\n"
     ]
    }
   ],
   "source": [
    "def appenddata(filename):\n",
    "    f = open(filename,'a')\n",
    "    f.write(\"new line 1 \\n\")\n",
    "    f.write(\"new line 2 \\n\")\n",
    "    print(\"file created and successfully data written\")\n",
    "    f.close()\n",
    "    return\n",
    "appenddata('file2.txt')"
   ]
  },
  {
   "cell_type": "code",
   "execution_count": 40,
   "metadata": {},
   "outputs": [
    {
     "name": "stdout",
     "output_type": "stream",
     "text": [
      "this is 0 linenew line 1 \n",
      "new line 2 \n",
      "new line 1 \n",
      "new line 2 \n",
      "\n"
     ]
    }
   ],
   "source": [
    "def readFileData(filename):\n",
    "    f = open(filename,'r')\n",
    "    if f.mode == 'r':\n",
    "        X = f.read()\n",
    "        print(X)\n",
    "    f.close()\n",
    "    return\n",
    "readFileData('file2.txt')"
   ]
  },
  {
   "cell_type": "code",
   "execution_count": 26,
   "metadata": {},
   "outputs": [
    {
     "name": "stdout",
     "output_type": "stream",
     "text": [
      "Enter the filename data.txt\n",
      "Enter the mode of the file a\n",
      "The data successfully written \n"
     ]
    }
   ],
   "source": [
    "# Function to read the file\n",
    "def fileOperations(filename,mode):\n",
    "   with open(filename,mode) as f:\n",
    "       if f.mode == 'r':\n",
    "           data=f.read()\n",
    "           print(data)\n",
    "       elif f.mode == 'a':\n",
    "           f.write('Data to the file ')\n",
    "           print('The data successfully written ')\n",
    "   f.close()\n",
    "   return\n",
    "filename= input('Enter the filename ')\n",
    "mode=input('Enter the mode of the file ')\n",
    "fileOperations(filename,mode)"
   ]
  },
  {
   "cell_type": "code",
   "execution_count": 27,
   "metadata": {},
   "outputs": [
    {
     "name": "stdout",
     "output_type": "stream",
     "text": [
      "Enter the filename data.txt\n",
      "Enter the mode of the file r\n",
      "Data to the file \n"
     ]
    }
   ],
   "source": [
    "# Function to read the file\n",
    "def fileOperations(filename,mode):\n",
    "   with open(filename,mode) as f:\n",
    "       if f.mode == 'r':\n",
    "           data=f.read()\n",
    "           print(data)\n",
    "       elif f.mode == 'a':\n",
    "           f.write('Data to the file ')\n",
    "           print('The data successfully written ')\n",
    "   f.close()\n",
    "   return\n",
    "filename= input('Enter the filename ')\n",
    "mode=input('Enter the mode of the file ')\n",
    "fileOperations(filename,mode)"
   ]
  },
  {
   "cell_type": "code",
   "execution_count": 35,
   "metadata": {},
   "outputs": [
    {
     "name": "stdout",
     "output_type": "stream",
     "text": [
      "enter the file name : file2.txt\n",
      "enter the word count you need : This\n"
     ]
    },
    {
     "data": {
      "text/plain": [
       "0"
      ]
     },
     "execution_count": 35,
     "metadata": {},
     "output_type": "execute_result"
    }
   ],
   "source": [
    "# data analysis\n",
    "# word count program\n",
    "\n",
    "def wordcount(filename,mode):\n",
    "    with open(filename, 'r') as f:\n",
    "        if f.mode == 'r':\n",
    "            x = f.read()\n",
    "            li = x.split()\n",
    "    cnt = li.count(word)        \n",
    "    return cnt\n",
    "filename = input(\"enter the file name : \")\n",
    "word = input(\"enter the word count you need : \") \n",
    "wordcount(filename,mode)"
   ]
  },
  {
   "cell_type": "code",
   "execution_count": 42,
   "metadata": {},
   "outputs": [
    {
     "name": "stdout",
     "output_type": "stream",
     "text": [
      "enter he filename : file2.txt\n"
     ]
    },
    {
     "data": {
      "text/plain": [
       "62"
      ]
     },
     "execution_count": 42,
     "metadata": {},
     "output_type": "execute_result"
    }
   ],
   "source": [
    "# character count from the given file\n",
    "\n",
    "def charcount(filename):\n",
    "    with open(filename,'r') as f:\n",
    "        if f.mode == 'r':\n",
    "            x = f.read()\n",
    "            li = list(x)      # convert the string- char  \n",
    "    return len(li)\n",
    "filename = input(\"enter he filename : \")\n",
    "charcount(filename) "
   ]
  },
  {
   "cell_type": "code",
   "execution_count": 43,
   "metadata": {},
   "outputs": [
    {
     "name": "stdout",
     "output_type": "stream",
     "text": [
      "Enter the filename : file2.txt\n"
     ]
    },
    {
     "data": {
      "text/plain": [
       "5"
      ]
     },
     "execution_count": 43,
     "metadata": {},
     "output_type": "execute_result"
    }
   ],
   "source": [
    "# function to find the no of lines in the input file\n",
    "# input --- filename(file2.txt)\n",
    "# output --- no of lines(12) \n",
    "\n",
    "def countOfLines(filename):\n",
    "   with open(filename,'r') as f:\n",
    "       if f.mode=='r':\n",
    "           x=f.read()\n",
    "           li=x.split(\"\\n\")\n",
    "   return len(li)\n",
    "filename=input('Enter the filename : ')\n",
    "countOfLines(filename)  "
   ]
  },
  {
   "cell_type": "code",
   "execution_count": 44,
   "metadata": {},
   "outputs": [
    {
     "name": "stdout",
     "output_type": "stream",
     "text": [
      "Enter the filename : file2.txt\n"
     ]
    },
    {
     "data": {
      "text/plain": [
       "'Upper Case = 0 , Lower Case = 38'"
      ]
     },
     "execution_count": 44,
     "metadata": {},
     "output_type": "execute_result"
    }
   ],
   "source": [
    "# Function to print the Upper and Lower characters\n",
    "def caseCount(filename):\n",
    "   cntUpper=0\n",
    "   cntLower=0\n",
    "   with open(filename,'r') as f:\n",
    "       if f.mode == 'r':\n",
    "           x=f.read()\n",
    "           li=list(x)\n",
    "   for i in li:\n",
    "       if i.isupper():\n",
    "           cntUpper += 1 #cntUpper = cntUpper + 1\n",
    "       elif i.islower():\n",
    "           cntLower += 1 #cntLower + 1\n",
    "           output = 'Upper Case = {0} , Lower Case = {1}'.format(cntUpper,cntLower)\n",
    "   return output\n",
    "filename = input('Enter the filename : ')\n",
    "caseCount(filename)"
   ]
  },
  {
   "cell_type": "markdown",
   "metadata": {},
   "source": [
    "### math,random,os\n",
    "- os package it contains the certain methods which works with OS"
   ]
  },
  {
   "cell_type": "code",
   "execution_count": 86,
   "metadata": {},
   "outputs": [
    {
     "name": "stdout",
     "output_type": "stream",
     "text": [
      " Volume in drive C has no label.\n",
      " Volume Serial Number is BAAB-0D24\n",
      "\n",
      " Directory of C:\\Users\\222\n",
      "\n",
      "08-07-2019  16:00             9,719  8th-july- 2019.ipynb\n",
      "11-07-2019  12:28    <DIR>          .\n",
      "11-07-2019  12:28    <DIR>          ..\n",
      "08-05-2019  09:40    <DIR>          .anaconda\n",
      "14-03-2017  11:25               145 .appletviewer\n",
      "02-11-2017  15:53                 0 .cdtclient\n",
      "08-07-2019  09:03    <DIR>          .conda\n",
      "08-07-2019  09:05                43 .condarc\n",
      "14-09-2018  14:16    <DIR>          .config\n",
      "20-11-2018  15:13    <DIR>          .eclipse\n",
      "11-07-2019  09:00    <DIR>          .ipynb_checkpoints\n",
      "08-05-2019  09:48    <DIR>          .ipython\n",
      "17-03-2017  10:03    <DIR>          .jmc\n",
      "08-05-2019  10:35    <DIR>          .jupyter\n",
      "17-05-2019  16:38    <DIR>          .matplotlib\n",
      "16-11-2018  13:58    <DIR>          .oracle_jre_usage\n",
      "06-07-2019  11:46    <DIR>          .spyder-py3\n",
      "10-07-2019  16:51            15,593 10th- july-2019.ipynb\n",
      "11-07-2019  12:28            14,129 11th-july-2019.ipynb\n",
      "17-01-2017  11:21    <DIR>          2210315423\n",
      "06-07-2019  12:44             2,074 6-7-2019.ipynb\n",
      "09-07-2019  15:46             9,222 9th-july-2019.ipynb\n",
      "22-04-2019  16:17    <DIR>          Anaconda3\n",
      "22-11-2016  16:53    <DIR>          Contacts\n",
      "11-07-2019  10:25                17 data.txt\n",
      "12-05-2019  10:38            12,037 Day 11 09 may.ipynb\n",
      "12-05-2019  10:46             5,453 Day 12 10th may.ipynb\n",
      "12-05-2019  14:18             6,587 Day 13 11th may.ipynb\n",
      "13-05-2019  16:31             3,640 Day 14 12th may.ipynb\n",
      "15-05-2019  10:13             5,560 Day 15 13th May.ipynb\n",
      "15-05-2019  11:15               761 Day 18 16th May.ipynb\n",
      "12-05-2019  11:12                72 Day.ipynb\n",
      "10-07-2019  14:08            19,819 Day-9(10-07-2019) (1).ipynb\n",
      "06-07-2019  16:18    <DIR>          Desktop\n",
      "08-07-2019  16:56    <DIR>          Documents\n",
      "11-07-2019  12:28    <DIR>          Downloads\n",
      "22-11-2016  16:53    <DIR>          Favorites\n",
      "11-07-2019  09:52                14 file.txt\n",
      "11-07-2019  10:10                66 file2.txt\n",
      "17-03-2017  10:52    <DIR>          hemanth\n",
      "22-11-2016  16:53    <DIR>          Links\n",
      "22-11-2016  16:53    <DIR>          Music\n",
      "13-03-2019  12:35    <DIR>          Pictures\n",
      "08-05-2019  16:10             1,790 problem.ipynb\n",
      "15-05-2019  12:48    <DIR>          program with python\n",
      "15-05-2019  12:48             1,143 saikrishna.ipynb\n",
      "22-11-2016  16:53    <DIR>          Saved Games\n",
      "22-11-2016  16:53    <DIR>          Searches\n",
      "15-05-2019  12:15                 0 test.py\n",
      "08-05-2019  09:48                72 test.py.ipynb\n",
      "15-05-2019  12:15                 0 untitled\n",
      "15-05-2019  12:11    <DIR>          Untitled Folder\n",
      "15-05-2019  12:12    <DIR>          Untitled Folder 1\n",
      "15-05-2019  12:25    <DIR>          Untitled Folder 2\n",
      "08-07-2019  11:12               555 Untitled.ipynb\n",
      "08-07-2019  09:22                72 Untitled8.ipynb\n",
      "08-07-2019  09:22                72 Untitled9.ipynb\n",
      "22-11-2016  16:53    <DIR>          Videos\n",
      "17-03-2017  10:18    <DIR>          workspace\n",
      "              27 File(s)        108,655 bytes\n",
      "              32 Dir(s)  43,456,225,280 bytes free\n"
     ]
    }
   ],
   "source": [
    "ls"
   ]
  },
  {
   "cell_type": "code",
   "execution_count": 90,
   "metadata": {},
   "outputs": [
    {
     "name": "stdout",
     "output_type": "stream",
     "text": [
      " Volume in drive C has no label.\n",
      " Volume Serial Number is BAAB-0D24\n",
      "\n",
      " Directory of C:\\Users\\222\\desktop\n",
      "\n",
      "06-07-2019  16:18    <DIR>          .\n",
      "06-07-2019  16:18    <DIR>          ..\n",
      "01-12-2016  10:23               958 Dev-C++.lnk\n",
      "29-11-2016  15:56               605 eclipse - Shortcut.lnk\n",
      "06-07-2019  16:18    <DIR>          nata 4.0\n",
      "06-07-2019  16:18             3,025 NATA_Online.lnk\n",
      "               3 File(s)          4,588 bytes\n",
      "               3 Dir(s)  43,457,531,904 bytes free\n"
     ]
    }
   ],
   "source": [
    "ls"
   ]
  },
  {
   "cell_type": "code",
   "execution_count": 94,
   "metadata": {},
   "outputs": [
    {
     "ename": "FileNotFoundError",
     "evalue": "[WinError 3] The system cannot find the path specified: 'git/'",
     "output_type": "error",
     "traceback": [
      "\u001b[1;31m---------------------------------------------------------------------------\u001b[0m",
      "\u001b[1;31mFileNotFoundError\u001b[0m                         Traceback (most recent call last)",
      "\u001b[1;32m<ipython-input-94-eedfc0f343df>\u001b[0m in \u001b[0;36m<module>\u001b[1;34m\u001b[0m\n\u001b[1;32m----> 1\u001b[1;33m \u001b[0mli\u001b[0m \u001b[1;33m=\u001b[0m \u001b[0mos\u001b[0m\u001b[1;33m.\u001b[0m\u001b[0mlistdir\u001b[0m\u001b[1;33m(\u001b[0m\u001b[1;34m'git/'\u001b[0m\u001b[1;33m)\u001b[0m\u001b[1;33m\u001b[0m\u001b[1;33m\u001b[0m\u001b[0m\n\u001b[0m\u001b[0;32m      2\u001b[0m \u001b[1;32mfor\u001b[0m \u001b[0mi\u001b[0m \u001b[1;32min\u001b[0m \u001b[0mli\u001b[0m \u001b[1;33m:\u001b[0m\u001b[1;33m\u001b[0m\u001b[1;33m\u001b[0m\u001b[0m\n\u001b[0;32m      3\u001b[0m     \u001b[0mprint\u001b[0m\u001b[1;33m(\u001b[0m\u001b[0mi\u001b[0m\u001b[1;33m)\u001b[0m\u001b[1;33m\u001b[0m\u001b[1;33m\u001b[0m\u001b[0m\n",
      "\u001b[1;31mFileNotFoundError\u001b[0m: [WinError 3] The system cannot find the path specified: 'git/'"
     ]
    }
   ],
   "source": [
    "li = os.listdir('git/')\n",
    "for i in li :\n",
    "    print(i)"
   ]
  },
  {
   "cell_type": "markdown",
   "metadata": {},
   "source": [
    "# Listing all files in a directory"
   ]
  },
  {
   "cell_type": "code",
   "execution_count": 96,
   "metadata": {},
   "outputs": [
    {
     "ename": "SyntaxError",
     "evalue": "invalid syntax (<ipython-input-96-98a86fb5adb6>, line 4)",
     "output_type": "error",
     "traceback": [
      "\u001b[1;36m  File \u001b[1;32m\"<ipython-input-96-98a86fb5adb6>\"\u001b[1;36m, line \u001b[1;32m4\u001b[0m\n\u001b[1;33m    if os.path.isfile\u001b[0m\n\u001b[1;37m                     ^\u001b[0m\n\u001b[1;31mSyntaxError\u001b[0m\u001b[1;31m:\u001b[0m invalid syntax\n"
     ]
    }
   ],
   "source": [
    "import os\n",
    "dirPath = \"Git/\"\n",
    "for i in os.listdir(dirPath):\n",
    "    if os.path.isfile"
   ]
  },
  {
   "cell_type": "markdown",
   "metadata": {},
   "source": [
    "# listing subdirectories"
   ]
  },
  {
   "cell_type": "code",
   "execution_count": 100,
   "metadata": {},
   "outputs": [
    {
     "ename": "ImportError",
     "evalue": "cannot import name 'path' from 'pathlib' (C:\\Users\\222\\Anaconda3\\lib\\pathlib.py)",
     "output_type": "error",
     "traceback": [
      "\u001b[1;31m---------------------------------------------------------------------------\u001b[0m",
      "\u001b[1;31mImportError\u001b[0m                               Traceback (most recent call last)",
      "\u001b[1;32m<ipython-input-100-79acc4a703b3>\u001b[0m in \u001b[0;36m<module>\u001b[1;34m\u001b[0m\n\u001b[1;32m----> 1\u001b[1;33m \u001b[1;32mfrom\u001b[0m \u001b[0mpathlib\u001b[0m \u001b[1;32mimport\u001b[0m \u001b[0mpath\u001b[0m\u001b[1;33m\u001b[0m\u001b[1;33m\u001b[0m\u001b[0m\n\u001b[0m\u001b[0;32m      2\u001b[0m \u001b[0mdirpath\u001b[0m \u001b[1;33m=\u001b[0m \u001b[0mpath\u001b[0m\u001b[1;33m(\u001b[0m\u001b[1;34m'git/'\u001b[0m\u001b[1;33m)\u001b[0m\u001b[1;33m\u001b[0m\u001b[1;33m\u001b[0m\u001b[0m\n\u001b[0;32m      3\u001b[0m \u001b[1;32mfor\u001b[0m \u001b[0mi\u001b[0m \u001b[1;32min\u001b[0m \u001b[0mlistdir\u001b[0m\u001b[1;33m.\u001b[0m\u001b[0miterdir\u001b[0m\u001b[1;33m(\u001b[0m\u001b[0mdirpath\u001b[0m\u001b[1;33m)\u001b[0m\u001b[1;33m:\u001b[0m\u001b[1;33m\u001b[0m\u001b[1;33m\u001b[0m\u001b[0m\n\u001b[0;32m      4\u001b[0m     \u001b[1;32mif\u001b[0m \u001b[0mi\u001b[0m\u001b[1;33m.\u001b[0m\u001b[0mis_dir\u001b[0m\u001b[1;33m(\u001b[0m\u001b[1;33m)\u001b[0m\u001b[1;33m:\u001b[0m\u001b[1;33m\u001b[0m\u001b[1;33m\u001b[0m\u001b[0m\n\u001b[0;32m      5\u001b[0m         \u001b[0mprint\u001b[0m\u001b[1;33m(\u001b[0m\u001b[0mi\u001b[0m\u001b[1;33m.\u001b[0m\u001b[0mname\u001b[0m\u001b[1;33m)\u001b[0m\u001b[1;33m\u001b[0m\u001b[1;33m\u001b[0m\u001b[0m\n",
      "\u001b[1;31mImportError\u001b[0m: cannot import name 'path' from 'pathlib' (C:\\Users\\222\\Anaconda3\\lib\\pathlib.py)"
     ]
    }
   ],
   "source": [
    "from pathlib import path\n",
    "dirpath = path('git/')\n",
    "for i in listdir.iterdir(dirpath):\n",
    "    if i.is_dir():\n",
    "        print(i.name)"
   ]
  },
  {
   "cell_type": "markdown",
   "metadata": {},
   "source": [
    "# creating a single directory"
   ]
  },
  {
   "cell_type": "code",
   "execution_count": null,
   "metadata": {},
   "outputs": [],
   "source": [
    "import os\n",
    "os.mkdir('singledirectory')"
   ]
  },
  {
   "cell_type": "code",
   "execution_count": 106,
   "metadata": {},
   "outputs": [],
   "source": [
    "import pathlib\n",
    "p = pathlib.Path('testfolder')\n",
    "p.mkdir()"
   ]
  },
  {
   "cell_type": "code",
   "execution_count": 105,
   "metadata": {},
   "outputs": [
    {
     "name": "stdout",
     "output_type": "stream",
     "text": [
      " Volume in drive C has no label.\n",
      " Volume Serial Number is BAAB-0D24\n",
      "\n",
      " Directory of C:\\Users\\222\\desktop\n",
      "\n",
      "11-07-2019  14:46    <DIR>          .\n",
      "11-07-2019  14:46    <DIR>          ..\n",
      "01-12-2016  10:23               958 Dev-C++.lnk\n",
      "29-11-2016  15:56               605 eclipse - Shortcut.lnk\n",
      "06-07-2019  16:18    <DIR>          nata 4.0\n",
      "06-07-2019  16:18             3,025 NATA_Online.lnk\n",
      "11-07-2019  14:46    <DIR>          single directory\n",
      "11-07-2019  14:46    <DIR>          singledirectory\n",
      "               3 File(s)          4,588 bytes\n",
      "               5 Dir(s)  43,208,564,736 bytes free\n"
     ]
    }
   ],
   "source": [
    "ls"
   ]
  },
  {
   "cell_type": "code",
   "execution_count": 2,
   "metadata": {},
   "outputs": [
    {
     "ename": "FileNotFoundError",
     "evalue": "[WinError 3] The system cannot find the path specified: 'Git/'",
     "output_type": "error",
     "traceback": [
      "\u001b[1;31m---------------------------------------------------------------------------\u001b[0m",
      "\u001b[1;31mFileNotFoundError\u001b[0m                         Traceback (most recent call last)",
      "\u001b[1;32m<ipython-input-2-dd7516e79799>\u001b[0m in \u001b[0;36m<module>\u001b[1;34m\u001b[0m\n\u001b[0;32m      1\u001b[0m \u001b[1;32mimport\u001b[0m \u001b[0mos\u001b[0m\u001b[1;33m\u001b[0m\u001b[1;33m\u001b[0m\u001b[0m\n\u001b[0;32m      2\u001b[0m \u001b[0mdirPath\u001b[0m \u001b[1;33m=\u001b[0m \u001b[1;34m'Git/'\u001b[0m\u001b[1;33m\u001b[0m\u001b[1;33m\u001b[0m\u001b[0m\n\u001b[1;32m----> 3\u001b[1;33m \u001b[1;32mfor\u001b[0m \u001b[0mf_name\u001b[0m \u001b[1;32min\u001b[0m \u001b[0mos\u001b[0m\u001b[1;33m.\u001b[0m\u001b[0mlistdir\u001b[0m\u001b[1;33m(\u001b[0m\u001b[0mdirPath\u001b[0m\u001b[1;33m)\u001b[0m\u001b[1;33m:\u001b[0m\u001b[1;33m\u001b[0m\u001b[1;33m\u001b[0m\u001b[0m\n\u001b[0m\u001b[0;32m      4\u001b[0m     \u001b[1;32mif\u001b[0m \u001b[0mf_name\u001b[0m\u001b[1;33m.\u001b[0m\u001b[0mendswith\u001b[0m\u001b[1;33m(\u001b[0m\u001b[1;34m'.ipynb'\u001b[0m\u001b[1;33m)\u001b[0m\u001b[1;33m:\u001b[0m\u001b[1;33m\u001b[0m\u001b[1;33m\u001b[0m\u001b[0m\n\u001b[0;32m      5\u001b[0m         \u001b[0mprint\u001b[0m\u001b[1;33m(\u001b[0m\u001b[0mf_name\u001b[0m\u001b[1;33m)\u001b[0m\u001b[1;33m\u001b[0m\u001b[1;33m\u001b[0m\u001b[0m\n",
      "\u001b[1;31mFileNotFoundError\u001b[0m: [WinError 3] The system cannot find the path specified: 'Git/'"
     ]
    }
   ],
   "source": [
    "import os\n",
    "dirPath = 'Git/'\n",
    "for f_name in os.listdir(dirPath):\n",
    "    if f_name.endswith('.ipynb'):\n",
    "        print(f_name)"
   ]
  },
  {
   "cell_type": "code",
   "execution_count": 3,
   "metadata": {},
   "outputs": [
    {
     "ename": "FileNotFoundError",
     "evalue": "[WinError 3] The system cannot find the path specified: 'Git/'",
     "output_type": "error",
     "traceback": [
      "\u001b[1;31m---------------------------------------------------------------------------\u001b[0m",
      "\u001b[1;31mFileNotFoundError\u001b[0m                         Traceback (most recent call last)",
      "\u001b[1;32m<ipython-input-3-f1844c0c2ce7>\u001b[0m in \u001b[0;36m<module>\u001b[1;34m\u001b[0m\n\u001b[0;32m      1\u001b[0m \u001b[1;32mimport\u001b[0m \u001b[0mos\u001b[0m\u001b[1;33m\u001b[0m\u001b[1;33m\u001b[0m\u001b[0m\n\u001b[0;32m      2\u001b[0m \u001b[0mdirPath\u001b[0m \u001b[1;33m=\u001b[0m \u001b[1;34m'Git/'\u001b[0m\u001b[1;33m\u001b[0m\u001b[1;33m\u001b[0m\u001b[0m\n\u001b[1;32m----> 3\u001b[1;33m \u001b[1;32mfor\u001b[0m \u001b[0mf_name\u001b[0m \u001b[1;32min\u001b[0m \u001b[0mos\u001b[0m\u001b[1;33m.\u001b[0m\u001b[0mlistdir\u001b[0m\u001b[1;33m(\u001b[0m\u001b[0mdirPath\u001b[0m\u001b[1;33m)\u001b[0m\u001b[1;33m:\u001b[0m\u001b[1;33m\u001b[0m\u001b[1;33m\u001b[0m\u001b[0m\n\u001b[0m\u001b[0;32m      4\u001b[0m     \u001b[1;32mif\u001b[0m \u001b[0mf_name\u001b[0m\u001b[1;33m.\u001b[0m\u001b[0mstartswith\u001b[0m\u001b[1;33m(\u001b[0m\u001b[1;34m'0'\u001b[0m\u001b[1;33m)\u001b[0m\u001b[1;33m:\u001b[0m\u001b[1;33m\u001b[0m\u001b[1;33m\u001b[0m\u001b[0m\n\u001b[0;32m      5\u001b[0m         \u001b[0mprint\u001b[0m\u001b[1;33m(\u001b[0m\u001b[0mf_name\u001b[0m\u001b[1;33m)\u001b[0m\u001b[1;33m\u001b[0m\u001b[1;33m\u001b[0m\u001b[0m\n",
      "\u001b[1;31mFileNotFoundError\u001b[0m: [WinError 3] The system cannot find the path specified: 'Git/'"
     ]
    }
   ],
   "source": [
    "import os\n",
    "dirPath = 'Git/'\n",
    "for f_name in os.listdir(dirPath):\n",
    "    if f_name.startswith('0'):\n",
    "        print(f_name)"
   ]
  },
  {
   "cell_type": "markdown",
   "metadata": {},
   "source": [
    "# deleting files and directory"
   ]
  },
  {
   "cell_type": "code",
   "execution_count": 4,
   "metadata": {},
   "outputs": [
    {
     "ename": "NameError",
     "evalue": "name 'file3_file' is not defined",
     "output_type": "error",
     "traceback": [
      "\u001b[1;31m---------------------------------------------------------------------------\u001b[0m",
      "\u001b[1;31mNameError\u001b[0m                                 Traceback (most recent call last)",
      "\u001b[1;32m<ipython-input-4-51d80384c31c>\u001b[0m in \u001b[0;36m<module>\u001b[1;34m\u001b[0m\n\u001b[0;32m      1\u001b[0m \u001b[1;32mimport\u001b[0m \u001b[0mos\u001b[0m\u001b[1;33m\u001b[0m\u001b[1;33m\u001b[0m\u001b[0m\n\u001b[0;32m      2\u001b[0m \u001b[0mdata_file\u001b[0m \u001b[1;33m=\u001b[0m \u001b[1;34m'file3.txt'\u001b[0m\u001b[1;33m\u001b[0m\u001b[1;33m\u001b[0m\u001b[0m\n\u001b[1;32m----> 3\u001b[1;33m \u001b[0mos\u001b[0m\u001b[1;33m.\u001b[0m\u001b[0mremove\u001b[0m\u001b[1;33m(\u001b[0m\u001b[0mfile3_file\u001b[0m\u001b[1;33m)\u001b[0m\u001b[1;33m\u001b[0m\u001b[1;33m\u001b[0m\u001b[0m\n\u001b[0m",
      "\u001b[1;31mNameError\u001b[0m: name 'file3_file' is not defined"
     ]
    }
   ],
   "source": [
    "import os\n",
    "data_file = 'file3.txt' \n",
    "os.remove(file3_file)"
   ]
  },
  {
   "cell_type": "code",
   "execution_count": 6,
   "metadata": {
    "scrolled": true
   },
   "outputs": [
    {
     "ename": "NameError",
     "evalue": "name 'working' is not defined",
     "output_type": "error",
     "traceback": [
      "\u001b[1;31m---------------------------------------------------------------------------\u001b[0m",
      "\u001b[1;31mNameError\u001b[0m                                 Traceback (most recent call last)",
      "\u001b[1;32m<ipython-input-6-511eceeadc9d>\u001b[0m in \u001b[0;36m<module>\u001b[1;34m\u001b[0m\n\u001b[1;32m----> 1\u001b[1;33m \u001b[0mworking\u001b[0m\u001b[1;33m\u001b[0m\u001b[1;33m\u001b[0m\u001b[0m\n\u001b[0m\u001b[0;32m      2\u001b[0m \u001b[1;32mimport\u001b[0m \u001b[0mos\u001b[0m\u001b[1;33m\u001b[0m\u001b[1;33m\u001b[0m\u001b[0m\n\u001b[0;32m      3\u001b[0m \u001b[0mdata_file\u001b[0m \u001b[1;33m=\u001b[0m \u001b[1;34m'filetest1.txt'\u001b[0m\u001b[1;33m\u001b[0m\u001b[1;33m\u001b[0m\u001b[0m\n\u001b[0;32m      4\u001b[0m \u001b[0mos\u001b[0m\u001b[1;33m.\u001b[0m\u001b[0mremove\u001b[0m\u001b[1;33m(\u001b[0m\u001b[0mdata_file\u001b[0m\u001b[1;33m)\u001b[0m\u001b[1;33m\u001b[0m\u001b[1;33m\u001b[0m\u001b[0m\n\u001b[0;32m      5\u001b[0m \u001b[0mdata_dir\u001b[0m \u001b[1;33m=\u001b[0m \u001b[1;34m'TestFolder'\u001b[0m\u001b[1;33m\u001b[0m\u001b[1;33m\u001b[0m\u001b[0m\n",
      "\u001b[1;31mNameError\u001b[0m: name 'working' is not defined"
     ]
    }
   ],
   "source": [
    "working\n",
    "import os\n",
    "data_file = 'filetest1.txt'\n",
    "os.remove(data_file)\n",
    "data_dir = 'TestFolder'\n",
    "os.rmdir(data_dir)"
   ]
  },
  {
   "cell_type": "code",
   "execution_count": 7,
   "metadata": {},
   "outputs": [
    {
     "ename": "NameError",
     "evalue": "name 'data_dir' is not defined",
     "output_type": "error",
     "traceback": [
      "\u001b[1;31m---------------------------------------------------------------------------\u001b[0m",
      "\u001b[1;31mNameError\u001b[0m                                 Traceback (most recent call last)",
      "\u001b[1;32m<ipython-input-7-70b1e96e9953>\u001b[0m in \u001b[0;36m<module>\u001b[1;34m\u001b[0m\n\u001b[0;32m      1\u001b[0m \u001b[1;32mimport\u001b[0m \u001b[0mshutil\u001b[0m \u001b[1;31m# delete  the tree of structure of folder\u001b[0m\u001b[1;33m\u001b[0m\u001b[1;33m\u001b[0m\u001b[0m\n\u001b[0;32m      2\u001b[0m \u001b[0mdata_dirt\u001b[0m \u001b[1;33m=\u001b[0m \u001b[1;34m'2019'\u001b[0m\u001b[1;33m\u001b[0m\u001b[1;33m\u001b[0m\u001b[0m\n\u001b[1;32m----> 3\u001b[1;33m \u001b[0mshutil\u001b[0m\u001b[1;33m.\u001b[0m\u001b[0mrmtree\u001b[0m\u001b[1;33m(\u001b[0m\u001b[0mdata_dir\u001b[0m\u001b[1;33m)\u001b[0m\u001b[1;33m\u001b[0m\u001b[1;33m\u001b[0m\u001b[0m\n\u001b[0m",
      "\u001b[1;31mNameError\u001b[0m: name 'data_dir' is not defined"
     ]
    }
   ],
   "source": [
    "import shutil # delete  the tree of structure of folder\n",
    "data_dirt = '2019'\n",
    "shutil.rmtree(data_dir)"
   ]
  },
  {
   "cell_type": "markdown",
   "metadata": {},
   "source": [
    "# Regular Expressions\n",
    "- used to specific pattern matching\n",
    "- symbolic notations of pattern\n",
    "            \n"
   ]
  },
  {
   "cell_type": "code",
   "execution_count": null,
   "metadata": {},
   "outputs": [],
   "source": []
  }
 ],
 "metadata": {
  "kernelspec": {
   "display_name": "Python 3",
   "language": "python",
   "name": "python3"
  },
  "language_info": {
   "codemirror_mode": {
    "name": "ipython",
    "version": 3
   },
   "file_extension": ".py",
   "mimetype": "text/x-python",
   "name": "python",
   "nbconvert_exporter": "python",
   "pygments_lexer": "ipython3",
   "version": "3.7.3"
  }
 },
 "nbformat": 4,
 "nbformat_minor": 2
}
