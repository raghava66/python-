{
 "cells": [
  {
   "cell_type": "code",
   "execution_count": 8,
   "metadata": {},
   "outputs": [
    {
     "data": {
      "text/plain": [
       "'It is a Palindrome'"
      ]
     },
     "execution_count": 8,
     "metadata": {},
     "output_type": "execute_result"
    }
   ],
   "source": [
    "def ispalindrome(n):\n",
    "    t=n\n",
    "    rem=0\n",
    "    rev=0\n",
    "    while n!=0:\n",
    "        rem=n%10\n",
    "        n=n//10\n",
    "        rev=rev*10+rem\n",
    "    if t==rev:\n",
    "        return \"It is a Palindrome\"\n",
    "    else:\n",
    "        return \"It is not a palindrome\"\n",
    "ispalindrome(7564657)"
   ]
  },
  {
   "cell_type": "code",
   "execution_count": 11,
   "metadata": {},
   "outputs": [
    {
     "name": "stdout",
     "output_type": "stream",
     "text": [
      "12345678910"
     ]
    }
   ],
   "source": [
    "#function to print n natural numbers with for loop\n",
    "def printnaturalnumber(n):\n",
    "    for x in range(1,n+1):\n",
    "      print(x,end=\"\")\n",
    "    return\n",
    "printnaturalnumber(10)\n",
    "    "
   ]
  },
  {
   "cell_type": "code",
   "execution_count": 16,
   "metadata": {},
   "outputs": [],
   "source": [
    "def reverserange(start,end):\n",
    "    for x in range(end,start-1,-1):\n",
    "        print(x,end = \"\")\n",
    "        return\n",
    "    reverserange(1,10)"
   ]
  },
  {
   "cell_type": "code",
   "execution_count": null,
   "metadata": {},
   "outputs": [],
   "source": []
  },
  {
   "cell_type": "code",
   "execution_count": null,
   "metadata": {},
   "outputs": [],
   "source": []
  }
 ],
 "metadata": {
  "kernelspec": {
   "display_name": "Python 3",
   "language": "python",
   "name": "python3"
  },
  "language_info": {
   "codemirror_mode": {
    "name": "ipython",
    "version": 3
   },
   "file_extension": ".py",
   "mimetype": "text/x-python",
   "name": "python",
   "nbconvert_exporter": "python",
   "pygments_lexer": "ipython3",
   "version": "3.7.3"
  }
 },
 "nbformat": 4,
 "nbformat_minor": 2
}
