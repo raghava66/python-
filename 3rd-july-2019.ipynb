{
 "cells": [
  {
   "cell_type": "code",
   "execution_count": null,
   "metadata": {},
   "outputs": [],
   "source": [
    "1. RAPTOR SOFTWARE INSTALLATION\n",
    "2. RAPTOR SYMBOLS\n",
    "3. RAPTOR EXAMPLES ON DIFFERENT SYMBOLS\n",
    "#1. KNOWING THE FUNICATIONALITY OF DIFFERENT SYMBOLS\n",
    "#2.ADDING OF TWO NUMBERS\n",
    "#3. FINDING THE AREA AND PERIMETER OG CIRCLE\n",
    "#4.find the area and perimeter of a square\n",
    "#5.sample flow chart\n",
    "        Assignment questions(4 to 6)\n",
    "1. Draw a flowchart to check whether a year is leap year or not.\n",
    "2. Draw a flowchart to input week number and print week day.\n",
    "3. Draw a Flowchart to find the largest of three numbers\n",
    "4. Draw a Flowchart to find sum of series 1+2+3+…..+N\n",
    "5. Draw a Flowchart to find sum of series 1+3+5+…..+N, Where N is positive odd Integer \n",
    "6. Draw a Flowchart to find sum and average of given series of numbers\n",
    "7. Draw a Flowchart to find Roots of Quadratic Equations AX2+BX+C=0\n",
    "8. Draw a Flowchart to find all the divisor of a number\n",
    "9. Draw a flowchart to input all sides of a triangle and check whether triangle is valid or not.\n",
    "10.Draw a Flowchart to convert temperature from Celsius to Fahren"
   ]
  }
 ],
 "metadata": {
  "kernelspec": {
   "display_name": "Python 3",
   "language": "python",
   "name": "python3"
  },
  "language_info": {
   "codemirror_mode": {
    "name": "ipython",
    "version": 3
   },
   "file_extension": ".py",
   "mimetype": "text/x-python",
   "name": "python",
   "nbconvert_exporter": "python",
   "pygments_lexer": "ipython3",
   "version": "3.7.3"
  }
 },
 "nbformat": 4,
 "nbformat_minor": 2
}
