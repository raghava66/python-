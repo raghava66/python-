{
 "cells": [
  {
   "cell_type": "code",
   "execution_count": null,
   "metadata": {},
   "outputs": [],
   "source": [
    "WORKED ON GITHUB AND CREATED AN ACCOUNT ON GITHUB.\n",
    "2. CREATED A REPOSITORY AND UPLOADED OUR FILE VIA TERMINAL.\n",
    "3. SCRATCH.\n",
    "4. CREATED A SMALL GAME USING SCRATCH ONLINE."
   ]
  }
 ],
 "metadata": {
  "kernelspec": {
   "display_name": "Python 3",
   "language": "python",
   "name": "python3"
  },
  "language_info": {
   "codemirror_mode": {
    "name": "ipython",
    "version": 3
   },
   "file_extension": ".py",
   "mimetype": "text/x-python",
   "name": "python",
   "nbconvert_exporter": "python",
   "pygments_lexer": "ipython3",
   "version": "3.7.3"
  }
 },
 "nbformat": 4,
 "nbformat_minor": 2
}
