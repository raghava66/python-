{
 "cells": [
  {
   "cell_type": "code",
   "execution_count": null,
   "metadata": {},
   "outputs": [],
   "source": [
    "Write a python programming to print the large digit from given number"
   ]
  },
  {
   "cell_type": "code",
   "execution_count": null,
   "metadata": {},
   "outputs": [],
   "source": [
    "https://github.com/raghava66/assessment/blob/master/1%20(1).rap"
   ]
  },
  {
   "cell_type": "code",
   "execution_count": 1,
   "metadata": {},
   "outputs": [
    {
     "name": "stdout",
     "output_type": "stream",
     "text": [
      "Enter a Number :195263\n",
      "\n",
      "Largest digit is : 9\n"
     ]
    }
   ],
   "source": [
    "n = int(input(\"Enter a Number :\"))\n",
    "\n",
    "ld = 0\n",
    "while n > 0:\n",
    "   r = n % 10\n",
    "   if ld < r:\n",
    "       ld = r\n",
    "   n = int(n / 10)\n",
    "\n",
    "print(\"\\nLargest digit is :\", ld)"
   ]
  }
 ],
 "metadata": {
  "kernelspec": {
   "display_name": "Python 3",
   "language": "python",
   "name": "python3"
  },
  "language_info": {
   "codemirror_mode": {
    "name": "ipython",
    "version": 3
   },
   "file_extension": ".py",
   "mimetype": "text/x-python",
   "name": "python",
   "nbconvert_exporter": "python",
   "pygments_lexer": "ipython3",
   "version": "3.7.3"
  }
 },
 "nbformat": 4,
 "nbformat_minor": 2
}
