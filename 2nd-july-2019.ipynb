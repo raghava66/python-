{
 "cells": [
  {
   "cell_type": "code",
   "execution_count": null,
   "metadata": {},
   "outputs": [],
   "source": [
    ". STARTED WITH GOOGLE FORUMS.\n",
    "2. AGAIN, HAD A SESSION REGARDING GOOGLE SITES.\n",
    "3. GOOGLE SHEETS.\n",
    "4. HAD A SESSION ABOUT SOFT-SKILLS IN THE EVENING."
   ]
  }
 ],
 "metadata": {
  "kernelspec": {
   "display_name": "Python 3",
   "language": "python",
   "name": "python3"
  },
  "language_info": {
   "codemirror_mode": {
    "name": "ipython",
    "version": 3
   },
   "file_extension": ".py",
   "mimetype": "text/x-python",
   "name": "python",
   "nbconvert_exporter": "python",
   "pygments_lexer": "ipython3",
   "version": "3.7.3"
  }
 },
 "nbformat": 4,
 "nbformat_minor": 2
}
