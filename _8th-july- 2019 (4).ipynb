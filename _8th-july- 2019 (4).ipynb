{
 "cells": [
  {
   "cell_type": "code",
   "execution_count": 5,
   "metadata": {},
   "outputs": [
    {
     "data": {
      "text/plain": [
       "True"
      ]
     },
     "execution_count": 5,
     "metadata": {},
     "output_type": "execute_result"
    }
   ],
   "source": [
    "# given number is prime number or not \n",
    "def isprime(n):\n",
    "    flag = True\n",
    "    for i in range (2,n//2+1):\n",
    "        if n%i==0:\n",
    "            flag = false\n",
    "            return flag\n",
    "    return flag\n",
    "isprime(11)"
   ]
  },
  {
   "cell_type": "code",
   "execution_count": 35,
   "metadata": {},
   "outputs": [
    {
     "data": {
      "text/plain": [
       "4"
      ]
     },
     "execution_count": 35,
     "metadata": {},
     "output_type": "execute_result"
    }
   ],
   "source": [
    "# function to find prime number count from 1 to N \n",
    "# 10 ---4(2,3,5,7)\n",
    "def primeCount(n):\n",
    "    cnt = 0\n",
    "    for a in range(2,n+1):\n",
    "        k = 0\n",
    "        for i in range(2,a//2+1):\n",
    "            if a % i ==0:\n",
    "                k = k + 1\n",
    "        if(k<=0):\n",
    "           cnt = cnt + 1\n",
    "    return cnt\n",
    "primeCount(10)"
   ]
  },
  {
   "cell_type": "code",
   "execution_count": 68,
   "metadata": {},
   "outputs": [
    {
     "name": "stdout",
     "output_type": "stream",
     "text": [
      "Yes\n",
      "No\n"
     ]
    }
   ],
   "source": [
    "def factorial(n):\n",
    "    fact = 1\n",
    "    for i in range(2,n+1):\n",
    "        fact *=i\n",
    "    return fact\n",
    "def digitFactSum(n):\n",
    "    sum=0\n",
    "    buffer=n\n",
    "    while n!=0:\n",
    "        r=n%10\n",
    "        sum+=factorial(r)\n",
    "        n=n//10\n",
    "    if sum==buffer:\n",
    "        return \"Yes\"\n",
    "    else:\n",
    "        return \"No\"\n",
    "    return\n",
    "print(digitFactSum(145))\n",
    "print(digitFactSum(123))"
   ]
  },
  {
   "cell_type": "code",
   "execution_count": 74,
   "metadata": {},
   "outputs": [
    {
     "data": {
      "text/plain": [
       "9"
      ]
     },
     "execution_count": 74,
     "metadata": {},
     "output_type": "execute_result"
    }
   ],
   "source": [
    "#Count of palindromenumbers between twogiven numbers\n",
    "def isPalindrome(n):\n",
    "    rev=0\n",
    "    buffer=n\n",
    "    while n!=0:\n",
    "        r=n%10\n",
    "        rev=rev*10+r\n",
    "        n=n//10\n",
    "    if rev==buffer:\n",
    "        return True\n",
    "    else:\n",
    "        return False\n",
    "\n",
    "def countPalindrome(lb,ub):\n",
    "    count=0\n",
    "    while lb!=ub:\n",
    "        #Implement\n",
    "        if isPalindrome(lb)==True:\n",
    "            count=count+1\n",
    "        lb=lb+1\n",
    "    return count \n",
    "countPalindrome(1,10)"
   ]
  },
  {
   "cell_type": "code",
   "execution_count": 1,
   "metadata": {},
   "outputs": [
    {
     "name": "stdout",
     "output_type": "stream",
     "text": [
      "False\n",
      "True\n"
     ]
    }
   ],
   "source": [
    "def isPalindrome(str):\n",
    "    if str == str[::-1]:\n",
    "        return True\n",
    "    else:\n",
    "        return False\n",
    "    return\n",
    "print(isPalindrome(\"Python\"))\n",
    "print(isPalindrome(\"ganag\"))"
   ]
  },
  {
   "cell_type": "code",
   "execution_count": 17,
   "metadata": {},
   "outputs": [
    {
     "name": "stdout",
     "output_type": "stream",
     "text": [
      "P T "
     ]
    }
   ],
   "source": [
    "# Function to print the Upper case characters\n",
    "#ASCII\n",
    "# A - Z : 65 - 90\n",
    "# a - z : 97 - 122\n",
    "#0 - 9 : 48 - 57\n",
    "# space : 32\n",
    "\n",
    "def printUpper(x):\n",
    "    for i in range(len(x)):\n",
    "        if ord(x[i])>=65 and ord(x[i])<=90:\n",
    "            print(x[i],end=\" \")\n",
    "    return\n",
    "printUpper(\"PyThon\")"
   ]
  },
  {
   "cell_type": "code",
   "execution_count": 18,
   "metadata": {},
   "outputs": [
    {
     "name": "stdout",
     "output_type": "stream",
     "text": [
      "6 \n",
      "6 28 496 8128 \n"
     ]
    }
   ],
   "source": [
    "def factorsList(n):\n",
    "    sum=0\n",
    "    for i in range(1,n//2+1):\n",
    "        if n%i==0:\n",
    "            sum=sum+i\n",
    "    return sum\n",
    "def isPerfect(n):\n",
    "    if factorsList(n)==n:\n",
    "        return True\n",
    "    return False\n",
    "def generatePerfect(lb,ub):\n",
    "    for x in range(lb,ub+1):\n",
    "        if isPerfect(x):\n",
    "            print(x,end=\" \")\n",
    "    print()\n",
    "    return\n",
    "generatePerfect(1,10)\n",
    "generatePerfect(1,10000)"
   ]
  },
  {
   "cell_type": "code",
   "execution_count": 24,
   "metadata": {},
   "outputs": [
    {
     "name": "stdout",
     "output_type": "stream",
     "text": [
      "SameCount\n",
      "Programming\n"
     ]
    }
   ],
   "source": [
    "#Function to print \"Python\" ifthe count of\n",
    "#Upper and lowercase is same\n",
    "#Print programming if not same\n",
    "#Example: PyTHon -- 3.P T O (upper case) --Same count\n",
    "#                   3.y h n(lower case)  --Same count\n",
    "#Function to print \"Python\" ifthe count of\n",
    "#Upper and lowercase is same\n",
    "#Print programming if not same\n",
    "#Example: PyTHon -- 3.P T O (upper case) --Same count\n",
    "#                   3.y h n(lower case)  --Same count\n",
    "def findcount(str):\n",
    "    cntUpper=0\n",
    "    cntLower=0\n",
    "    for x in range(len(str)):\n",
    "        if ord(str[x])>=65 and ord(str[x])<=90:\n",
    "            cntUpper=cntUpper+1\n",
    "        elif ord(str[x])>=97 and ord(str[x])<=122:\n",
    "            cntLower=cntLower+1\n",
    "    if cntUpper==cntLower:\n",
    "        return \"SameCount\"\n",
    "    else:\n",
    "        return \"Programming\"\n",
    "    return\n",
    "print(findcount(\"PyThoN\"))\n",
    "print(findcount(\"PYTHon\"))"
   ]
  },
  {
   "cell_type": "code",
   "execution_count": 23,
   "metadata": {},
   "outputs": [
    {
     "name": "stdout",
     "output_type": "stream",
     "text": [
      "1      8      8      9      "
     ]
    }
   ],
   "source": [
    "# extract digits from string\n",
    "# example\n",
    "# input : applicat8ion89\n",
    "# output : 1 8  8 9\n",
    "\n",
    "def extractDigits(str):\n",
    "    for x in range(len(str)):\n",
    "        if ord(str[x])>=48 and ord(str[x])<=57:\n",
    "            print(str[x],end=\"      \")\n",
    "    return\n",
    "extractDigits(\"Appli1cat8ion89\")"
   ]
  },
  {
   "cell_type": "code",
   "execution_count": 25,
   "metadata": {},
   "outputs": [
    {
     "name": "stdout",
     "output_type": "stream",
     "text": [
      "1  8  8  9  Sum= 26\n"
     ]
    }
   ],
   "source": [
    "#input: Applica1tion889\n",
    "#Output:(1+8+8+9)=26\n",
    "def extractDigits(str):\n",
    "    sum=0\n",
    "    for x in range(len(str)):\n",
    "        if ord(str[x])>=48 and ord(str[x])<=57:\n",
    "            sum=sum+(ord(str[x])-48)\n",
    "            print(str[x],end=\"  \")\n",
    "    print(\"Sum=\",sum)\n",
    "    return\n",
    "extractDigits(\"Appl1cat8ion89\")"
   ]
  },
  {
   "cell_type": "code",
   "execution_count": 29,
   "metadata": {},
   "outputs": [
    {
     "name": "stdout",
     "output_type": "stream",
     "text": [
      "8  8  \n",
      "Sum= 16\n"
     ]
    }
   ],
   "source": [
    "# function  to return the sum of digits in a given in a given string\n",
    "# example :\n",
    "# input : applicat8ion89\n",
    "# output : 16(8+8)\n",
    "#input:Applica1tion889\n",
    "#Output:(8+8)=16\n",
    "def SumOfEvenDigits(str):\n",
    "    sum=0\n",
    "    for x in range(len(str)):\n",
    "        if ord(str[x])>=48 and ord(str[x])<=57:\n",
    "            if (ord(str[x])-48)%2==0:\n",
    "                sum=sum+(ord(str[x])-48)\n",
    "                print(str[x],end=\"  \")\n",
    "    print(\"\\nSum=\",sum)\n",
    "    return\n",
    "SumOfEvenDigits(\"Applica1tion889\")"
   ]
  },
  {
   "cell_type": "code",
   "execution_count": 30,
   "metadata": {},
   "outputs": [
    {
     "name": "stdout",
     "output_type": "stream",
     "text": [
      "MADE"
     ]
    }
   ],
   "source": [
    "# function to print the specific word in Upper case\n",
    "# example:\n",
    "# input : python made Easy\n",
    "# output : MADE\n",
    "# input : learn python programming\n",
    "# output : PYTHON\n",
    "\n",
    "def Caps(s):\n",
    "    spaceCnt=0\n",
    "    for x in range(len(s)):\n",
    "        if ord(s[x])==32:\n",
    "            spaceCnt+=1\n",
    "        if spaceCnt==1:\n",
    "            if ord(s[x])>=65 and ord(s[x])<=90:\n",
    "                print(s[x],end=\"\")\n",
    "            elif ord(s[x])>=97 and ord(s[x])<=122:\n",
    "                print(chr(ord(s[x])-32),end=\"\")\n",
    "        if spaceCnt==2:\n",
    "            break\n",
    "    return\n",
    "Caps(\"Python Made Easy\")"
   ]
  },
  {
   "cell_type": "code",
   "execution_count": null,
   "metadata": {},
   "outputs": [],
   "source": []
  }
 ],
 "metadata": {
  "kernelspec": {
   "display_name": "Python 3",
   "language": "python",
   "name": "python3"
  },
  "language_info": {
   "codemirror_mode": {
    "name": "ipython",
    "version": 3
   },
   "file_extension": ".py",
   "mimetype": "text/x-python",
   "name": "python",
   "nbconvert_exporter": "python",
   "pygments_lexer": "ipython3",
   "version": "3.7.3"
  }
 },
 "nbformat": 4,
 "nbformat_minor": 2
}
